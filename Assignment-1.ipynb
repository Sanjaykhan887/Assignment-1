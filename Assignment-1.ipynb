{
 "cells": [
  {
   "cell_type": "raw",
   "id": "89e9e8b3-ee5f-4817-b7d9-0234ee2d0801",
   "metadata": {},
   "source": [
    "1.Who developed Python Programming Language?\n",
    "ans : Python was developed by 'Guido van Rossum'"
   ]
  },
  {
   "cell_type": "raw",
   "id": "44d66117-913a-482f-8cbd-a127efffec5c",
   "metadata": {},
   "source": [
    "2.which type of Programming does Python support?\n",
    "ans : Python is an interpreted programming language, supporting object-oriented, structured, and functional programming."
   ]
  },
  {
   "cell_type": "raw",
   "id": "4b4ad225-062f-4c26-8e1a-3c7237017231",
   "metadata": {},
   "source": [
    "3.is python case sensitive when deadling with idemtifiers?\n",
    "ans : Yes, Python is a case-sensitive language"
   ]
  },
  {
   "cell_type": "raw",
   "id": "bf24a792-8110-41b8-9ffa-495686a3d193",
   "metadata": {},
   "source": [
    "4.what is the correct extension of the python file?\n",
    "ans..py,.pyi"
   ]
  },
  {
   "cell_type": "raw",
   "id": "eead1379-0bc5-48aa-aeab-f183028e21da",
   "metadata": {},
   "source": [
    "5.is python code compiled or interpreted?\n",
    "ans.interpreted language"
   ]
  },
  {
   "cell_type": "raw",
   "id": "68106ab2-e297-494a-a427-8b33f171befa",
   "metadata": {},
   "source": [
    "6.name a few blocks of code used to define in python language?\n",
    "ans.a module, a function body, and a class definition."
   ]
  },
  {
   "cell_type": "raw",
   "id": "d2ac192b-f7dd-40cd-a740-a92236f28bf0",
   "metadata": {},
   "source": [
    "7.state a character used to give single-line comments im python\n",
    "ans. yes use #"
   ]
  },
  {
   "cell_type": "raw",
   "id": "bfb64569-15cf-423a-9a69-06c279acc609",
   "metadata": {},
   "source": [
    "8. mention function which can help uis help us to find the version of python that we are currently working on\n"
   ]
  },
  {
   "cell_type": "raw",
   "id": "eaad9bd6-d33d-466d-9e64-b9359dc78f6f",
   "metadata": {},
   "source": [
    "#ans"
   ]
  },
  {
   "cell_type": "raw",
   "id": "56f61dd9-ea8a-4bcd-bf65-9221d245539d",
   "metadata": {},
   "source": [
    "\n",
    "import sys\n",
    " \n",
    " \n",
    "print(\"User Current Version:-\", sys.version)"
   ]
  },
  {
   "cell_type": "raw",
   "id": "38aed621-0e20-4559-9083-e625819fcac3",
   "metadata": {},
   "source": [
    "9. Pyshon supports the cretion of anonymous function at runtime, using a construct called\n",
    "\n",
    "\n",
    "ans. lambda"
   ]
  },
  {
   "cell_type": "raw",
   "id": "b5fd8c39-ad4f-4632-bbf3-13b113b961a1",
   "metadata": {},
   "source": [
    "10.what does pip stand for python?\n",
    "\n",
    "\n",
    "ans.PIP is a recursive acronym for “Preferred Installer Program” or PIP Installs Packages. It is a command-line utility that installs, reinstalls, or uninstalls PyPI packages with one simple command: pip"
   ]
  },
  {
   "cell_type": "raw",
   "id": "9dd9cbc5-5439-4e2d-b99c-1c5c7f06658b",
   "metadata": {},
   "source": [
    "11. mention a few built-in function in python ?\n",
    "ans .\n",
    "abs(),aiter(),all(),any(),anext(),ascii(),bin(),bool(),breakpoint(),bytearray(),bytes(),callable(),chr(),classmethod(),compile(),filter(),float(),format(),frozenset(),getattr(),issubclass(),iter(),len(),list(),locals(),map(),max(),memoryview"
   ]
  },
  {
   "cell_type": "raw",
   "id": "2df1b39e-de7a-474e-af49-fca6cafd9c2f",
   "metadata": {},
   "source": [
    "12. What is the maximum possible length of an identifier in python?\n",
    "ans. 79 characters"
   ]
  },
  {
   "cell_type": "raw",
   "id": "60908963-57a4-413c-abb7-da30b2f5c7a8",
   "metadata": {},
   "source": [
    "13. What are benefits of using Python?\n",
    "ans. Easy to Read, Learn and Write. Python is a high-level programming language that has English-like syntax. ...\n",
    "Improved Productivity.\n",
    "Interpreted Language. ...\n",
    "Dynamically Typed. ...\n",
    "Free and Open-Source.\n",
    "Vast Libraries Support. ...\n",
    "Portability. ...\n",
    "Slow Speed. etc."
   ]
  },
  {
   "cell_type": "raw",
   "id": "3495adb3-7cfb-473d-9322-9eaa59f617a8",
   "metadata": {},
   "source": [
    "14. How is memory managed in Python?\n",
    "ans. Python involves a private heap containing all Python objects and data structures\n"
   ]
  },
  {
   "cell_type": "raw",
   "id": "0bcae18f-e4a6-4ea5-8865-c589d052980d",
   "metadata": {},
   "source": [
    "15. HOw to install Python on Windows and set path variables?\n",
    "ans.\n",
    "1.Right-clicking This PC and going to Properties.\n",
    "2.Clicking on the Advanced system settings in the menu on the left.\n",
    "3.Clicking on the Environment Variables button o​n the bottom right.\n",
    "4.In the System variables section, selecting the Path variable and clicking on Edit. The next screen will show all the directories that are currently a part of the PATH variable.\n",
    "5.Clicking on New and entering Python’s install directory"
   ]
  },
  {
   "cell_type": "raw",
   "id": "cd168523-44f0-45bb-a0e1-73f4e146032c",
   "metadata": {},
   "source": [
    "16.is indentation required in Python?\n",
    "the indentation in Python is very important"
   ]
  }
 ],
 "metadata": {
  "kernelspec": {
   "display_name": "Python 3 (ipykernel)",
   "language": "python",
   "name": "python3"
  },
  "language_info": {
   "codemirror_mode": {
    "name": "ipython",
    "version": 3
   },
   "file_extension": ".py",
   "mimetype": "text/x-python",
   "name": "python",
   "nbconvert_exporter": "python",
   "pygments_lexer": "ipython3",
   "version": "3.10.6"
  }
 },
 "nbformat": 4,
 "nbformat_minor": 5
}
